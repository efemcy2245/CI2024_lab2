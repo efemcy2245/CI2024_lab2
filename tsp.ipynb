{
 "cells": [
  {
   "cell_type": "markdown",
   "metadata": {
    "vscode": {
     "languageId": "plaintext"
    }
   },
   "source": [
    "Copyright **`(c)`** 2024 Giovanni Squillero `<giovanni.squillero@polito.it>`  \n",
    "[`https://github.com/squillero/computational-intelligence`](https://github.com/squillero/computational-intelligence)  \n",
    "Free under certain conditions — see the [`license`](https://github.com/squillero/computational-intelligence/blob/master/LICENSE.md) for details.  "
   ]
  },
  {
   "cell_type": "code",
   "execution_count": 1,
   "metadata": {},
   "outputs": [],
   "source": [
    "import logging\n",
    "from itertools import combinations\n",
    "import pandas as pd\n",
    "import numpy as np\n",
    "from geopy.distance import geodesic\n",
    "import networkx as nx\n",
    "import matplotlib.pyplot as plt\n",
    "\n",
    "from icecream import ic\n",
    "\n",
    "logging.basicConfig(level=logging.DEBUG)"
   ]
  },
  {
   "cell_type": "code",
   "execution_count": 2,
   "metadata": {},
   "outputs": [
    {
     "data": {
      "text/html": [
       "<div>\n",
       "<style scoped>\n",
       "    .dataframe tbody tr th:only-of-type {\n",
       "        vertical-align: middle;\n",
       "    }\n",
       "\n",
       "    .dataframe tbody tr th {\n",
       "        vertical-align: top;\n",
       "    }\n",
       "\n",
       "    .dataframe thead th {\n",
       "        text-align: right;\n",
       "    }\n",
       "</style>\n",
       "<table border=\"1\" class=\"dataframe\">\n",
       "  <thead>\n",
       "    <tr style=\"text-align: right;\">\n",
       "      <th></th>\n",
       "      <th>name</th>\n",
       "      <th>lat</th>\n",
       "      <th>lon</th>\n",
       "    </tr>\n",
       "  </thead>\n",
       "  <tbody>\n",
       "    <tr>\n",
       "      <th>0</th>\n",
       "      <td>Ancona</td>\n",
       "      <td>43.60</td>\n",
       "      <td>13.50</td>\n",
       "    </tr>\n",
       "    <tr>\n",
       "      <th>1</th>\n",
       "      <td>Andria</td>\n",
       "      <td>41.23</td>\n",
       "      <td>16.29</td>\n",
       "    </tr>\n",
       "    <tr>\n",
       "      <th>2</th>\n",
       "      <td>Bari</td>\n",
       "      <td>41.12</td>\n",
       "      <td>16.87</td>\n",
       "    </tr>\n",
       "    <tr>\n",
       "      <th>3</th>\n",
       "      <td>Bergamo</td>\n",
       "      <td>45.70</td>\n",
       "      <td>9.67</td>\n",
       "    </tr>\n",
       "    <tr>\n",
       "      <th>4</th>\n",
       "      <td>Bologna</td>\n",
       "      <td>44.50</td>\n",
       "      <td>11.34</td>\n",
       "    </tr>\n",
       "  </tbody>\n",
       "</table>\n",
       "</div>"
      ],
      "text/plain": [
       "      name    lat    lon\n",
       "0   Ancona  43.60  13.50\n",
       "1   Andria  41.23  16.29\n",
       "2     Bari  41.12  16.87\n",
       "3  Bergamo  45.70   9.67\n",
       "4  Bologna  44.50  11.34"
      ]
     },
     "execution_count": 2,
     "metadata": {},
     "output_type": "execute_result"
    }
   ],
   "source": [
    "CITIES = pd.read_csv('cities/italy.csv', header=None, names=['name', 'lat', 'lon'])\n",
    "DIST_MATRIX = np.zeros((len(CITIES), len(CITIES)))\n",
    "for c1, c2 in combinations(CITIES.itertuples(), 2):\n",
    "    DIST_MATRIX[c1.Index, c2.Index] = DIST_MATRIX[c2.Index, c1.Index] = geodesic(\n",
    "        (c1.lat, c1.lon), (c2.lat, c2.lon)\n",
    "    ).km\n",
    "CITIES.head()"
   ]
  },
  {
   "cell_type": "code",
   "execution_count": 3,
   "metadata": {},
   "outputs": [
    {
     "name": "stdout",
     "output_type": "stream",
     "text": [
      "46\n",
      "<class 'numpy.ndarray'>\n",
      "(2, 46)\n"
     ]
    }
   ],
   "source": [
    "print(len(DIST_MATRIX))\n",
    "print(type(DIST_MATRIX))\n",
    "print(DIST_MATRIX[0:2].shape)"
   ]
  },
  {
   "cell_type": "markdown",
   "metadata": {},
   "source": [
    "## Lab2 - TSP\n",
    "\n",
    "https://www.wolframcloud.com/obj/giovanni.squillero/Published/Lab2-tsp.nb"
   ]
  },
  {
   "cell_type": "code",
   "execution_count": 4,
   "metadata": {},
   "outputs": [],
   "source": [
    "def tsp_cost(tsp):\n",
    "    assert tsp[0] == tsp[-1]                      ### we want the last element equal to the initial \n",
    "    assert set(tsp) == set(range(len(CITIES)))    \n",
    "    tot_cost = 0\n",
    "    for c1, c2 in zip(tsp, tsp[1:]):\n",
    "        tot_cost += DIST_MATRIX[c1, c2]\n",
    "    return tot_cost"
   ]
  },
  {
   "cell_type": "markdown",
   "metadata": {},
   "source": [
    "nx.find_cycle(G) in the NetworkX library is used to find a cycle in a graph G. A cycle in a graph is a path that starts and ends at the same node, with each edge and node being visited only once (except the start/end node)"
   ]
  },
  {
   "cell_type": "code",
   "execution_count": 5,
   "metadata": {},
   "outputs": [],
   "source": [
    "def cyclic(edges):\n",
    "    G = nx.Graph()\n",
    "    G.add_edges_from(edges)\n",
    "    try:\n",
    "        nx.find_cycle(G)\n",
    "        return True\n",
    "    except:\n",
    "        return False"
   ]
  },
  {
   "cell_type": "markdown",
   "metadata": {},
   "source": [
    "## First Greedy Algorithm"
   ]
  },
  {
   "cell_type": "code",
   "execution_count": 6,
   "metadata": {},
   "outputs": [
    {
     "name": "stderr",
     "output_type": "stream",
     "text": [
      "DEBUG:root:step: Ancona -> Rimini (90.60km)\n",
      "DEBUG:root:step: Rimini -> Forlì (46.72km)\n",
      "DEBUG:root:step: Forlì -> Ravenna (26.46km)\n",
      "DEBUG:root:step: Ravenna -> Ferrara (66.67km)\n",
      "DEBUG:root:step: Ferrara -> Bologna (43.43km)\n",
      "DEBUG:root:step: Bologna -> Modena (37.29km)\n",
      "DEBUG:root:step: Modena -> Reggio nell'Emilia (23.94km)\n",
      "DEBUG:root:step: Reggio nell'Emilia -> Parma (26.94km)\n",
      "DEBUG:root:step: Parma -> Piacenza (57.65km)\n",
      "DEBUG:root:step: Piacenza -> Milan (60.65km)\n",
      "DEBUG:root:step: Milan -> Monza (14.51km)\n",
      "DEBUG:root:step: Monza -> Bergamo (33.92km)\n",
      "DEBUG:root:step: Bergamo -> Brescia (46.02km)\n",
      "DEBUG:root:step: Brescia -> Verona (61.42km)\n",
      "DEBUG:root:step: Verona -> Vicenza (44.70km)\n",
      "DEBUG:root:step: Vicenza -> Padua (30.13km)\n",
      "DEBUG:root:step: Padua -> Venice (36.07km)\n",
      "DEBUG:root:step: Venice -> Trieste (115.09km)\n",
      "DEBUG:root:step: Trieste -> Bolzano (209.68km)\n",
      "DEBUG:root:step: Bolzano -> Trento (49.94km)\n",
      "DEBUG:root:step: Trento -> Novara (206.69km)\n",
      "DEBUG:root:step: Novara -> Turin (84.46km)\n",
      "DEBUG:root:step: Turin -> Genoa (123.19km)\n",
      "DEBUG:root:step: Genoa -> Leghorn (146.37km)\n",
      "DEBUG:root:step: Leghorn -> Prato (74.02km)\n",
      "DEBUG:root:step: Prato -> Florence (17.17km)\n",
      "DEBUG:root:step: Florence -> Perugia (119.19km)\n",
      "DEBUG:root:step: Perugia -> Terni (63.64km)\n",
      "DEBUG:root:step: Terni -> Rome (76.54km)\n",
      "DEBUG:root:step: Rome -> Latina (56.84km)\n",
      "DEBUG:root:step: Latina -> Giugliano in Campania (124.45km)\n",
      "DEBUG:root:step: Giugliano in Campania -> Naples (11.15km)\n",
      "DEBUG:root:step: Naples -> Salerno (46.25km)\n",
      "DEBUG:root:step: Salerno -> Foggia (109.52km)\n",
      "DEBUG:root:step: Foggia -> Andria (67.42km)\n",
      "DEBUG:root:step: Andria -> Bari (50.18km)\n",
      "DEBUG:root:step: Bari -> Taranto (77.63km)\n",
      "DEBUG:root:step: Taranto -> Messina (293.02km)\n",
      "DEBUG:root:step: Messina -> Reggio di Calabria (12.48km)\n",
      "DEBUG:root:step: Reggio di Calabria -> Catania (84.28km)\n",
      "DEBUG:root:step: Catania -> Syracuse (51.23km)\n",
      "DEBUG:root:step: Syracuse -> Palermo (206.47km)\n",
      "DEBUG:root:step: Palermo -> Cagliari (390.28km)\n",
      "DEBUG:root:step: Cagliari -> Sassari (173.89km)\n",
      "DEBUG:root:step: Sassari -> Pescara (508.61km)\n",
      "DEBUG:root:step: Pescara -> Ancona (139.24km)\n",
      "INFO:root:result: Found a path of 46 steps, total length 4436.03km\n"
     ]
    }
   ],
   "source": [
    "visited = np.full(len(CITIES), False)\n",
    "\n",
    "dist = DIST_MATRIX.copy()\n",
    "city = 0\n",
    "visited[city] = True\n",
    "tsp = list()\n",
    "tsp.append(int(city))\n",
    "while not np.all(visited):\n",
    "    dist[:, city] = np.inf\n",
    "    closest = np.argmin(dist[city])    #### here we are finding the closest city \n",
    "    logging.debug(\n",
    "        f\"step: {CITIES.at[city,'name']} -> {CITIES.at[closest,'name']} ({DIST_MATRIX[city,closest]:.2f}km)\"\n",
    "    )\n",
    "    visited[closest] = True\n",
    "    city = closest\n",
    "    tsp.append(int(city))\n",
    "\n",
    "\n",
    "logging.debug(\n",
    "    f\"step: {CITIES.at[tsp[-1],'name']} -> {CITIES.at[tsp[0],'name']} ({DIST_MATRIX[tsp[-1],tsp[0]]:.2f}km)\" #### this is the last step to close the cycle\n",
    ")\n",
    "tsp.append(tsp[0])\n",
    "\n",
    "\n",
    "logging.info(f\"result: Found a path of {len(tsp)-1} steps, total length {tsp_cost(tsp):.2f}km\")"
   ]
  },
  {
   "cell_type": "markdown",
   "metadata": {},
   "source": [
    "## EVOLUTION ALGORITHM"
   ]
  },
  {
   "cell_type": "markdown",
   "metadata": {},
   "source": [
    "Population: A group of potential solutions to the problem, typically represented as individuals or chromosomes. The population evolves over generations.\n",
    "\n",
    "Selection: The process of choosing individuals from the population to create offspring. Common methods include:\n",
    "\n",
    "Tournament Selection: Randomly selecting a subset of individuals and choosing the best among them.\n",
    "Roulette Wheel Selection: Choosing individuals based on their fitness probability.\n",
    "Rank-Based Selection: Selecting based on the rank order of fitness values.\n",
    "Genetic Operators:\n",
    "\n",
    "Crossover (Recombination): Combines parts of two parent solutions to create offspring. Crossover types include single-point, multi-point, and uniform crossover.\n",
    "Mutation: Randomly alters an individual’s genes to maintain genetic diversity. Mutation can be bit-flip for binary encoding or Gaussian mutation for real numbers.\n",
    "Fitness Function: Measures how well each individual solves the problem. Fitness determines an individual's probability of being selected for reproduction.\n",
    "\n",
    "Replacement Strategy: Determines how to form the next generation, often by combining the parents and offspring and selecting the best individuals, or by replacing only a portion of the population.\n",
    "\n",
    "Termination Condition: Defines when the algorithm should stop. Common conditions include reaching a maximum number of generations, a solution meeting a desired fitness threshold, or observing no improvement over several generations."
   ]
  },
  {
   "cell_type": "markdown",
   "metadata": {},
   "source": [
    "Candidate solution ® Individual -> Set of candidate solutions ® Population ->\n",
    "-> Ability to solve the problem ® Fitness -> Sequence of steps ® Generations"
   ]
  },
  {
   "cell_type": "markdown",
   "metadata": {},
   "source": [
    "punti da fare:\n",
    "\n",
    "    - generare le soluzioni \n",
    "    "
   ]
  },
  {
   "cell_type": "code",
   "execution_count": 7,
   "metadata": {},
   "outputs": [],
   "source": [
    "def GreedyAlgorithm(index_starting):\n",
    "    global DIST_MATRIX\n",
    "    visited = np.full(len(CITIES), False)\n",
    "    dist = DIST_MATRIX.copy()\n",
    "    city = index_starting\n",
    "    visited[city] = True\n",
    "    tsp = list()\n",
    "    tsp.append(int(city))\n",
    "    while not np.all(visited):\n",
    "        dist[:, city] = np.inf\n",
    "        closest = np.argmin(dist[city])    #### here we are finding the closest city \n",
    "        #logging.debug(\n",
    "        #    f\"step: {CITIES.at[city,'name']} -> {CITIES.at[closest,'name']} ({DIST_MATRIX[city,closest]:.2f}km)\"\n",
    "        #)\n",
    "        visited[closest] = True\n",
    "        city = closest\n",
    "        tsp.append(int(city))\n",
    "\n",
    "\n",
    "    #logging.debug(\n",
    "    #    f\"step: {CITIES.at[tsp[-1],'name']} -> {CITIES.at[tsp[0],'name']} ({DIST_MATRIX[tsp[-1],tsp[0]]:.2f}km)\" #### this is the last step to close the cycle\n",
    "    #)\n",
    "    tsp.append(tsp[0])\n",
    "\n",
    "    cost = tsp_cost(tsp)\n",
    "    logging.info(f\"result: Found a path of {len(tsp)-1} steps, total length {cost:.2f}km\")\n",
    "\n",
    "    return (tsp, cost)    "
   ]
  },
  {
   "cell_type": "markdown",
   "metadata": {},
   "source": [
    "INFO Roulette wheel:Define the Number of Samples Needed: To form a new generation, we often need the same number of individuals as the current population. So, if the population has 𝑁 individuals, we usually draw N samples to maintain a constant population size."
   ]
  },
  {
   "cell_type": "markdown",
   "metadata": {},
   "source": [
    "## PARENT SELECTION"
   ]
  },
  {
   "cell_type": "code",
   "execution_count": 8,
   "metadata": {},
   "outputs": [],
   "source": [
    "import random\n",
    "\n",
    "def tournament_Selection( tao=5 ):   # we can change dinamically tao\n",
    "    global population\n",
    "    tournament_random = random.sample(population, tao)\n",
    "\n",
    "    tournament_random = sorted( tournament_random , key = lambda x : x[1])\n",
    "\n",
    "    return tournament_random[0]\n",
    "\n",
    "def roulette_wheel():\n",
    "    global population \n",
    "    # Problems: • Small selection pressure in large population, in large pop the probabilities are squeeze\n",
    "    # Not efficient in large population \n",
    "    fitness_value = [el[1] for el in population ]\n",
    "    total= sum(fitness_value)\n",
    "\n",
    "    probabilities = [fitness / total for fitness in fitness_value]\n",
    "\n",
    "    selected_individuals = random.choices(population , weights=probabilities, k=len(population))\n",
    "\n",
    "    return selected_individuals  #### list of selection parent \n",
    "\n",
    "    \n",
    "\n",
    "def rank_Based_Selection( p_max = 0.4 , p_min = 0.1):\n",
    "    global population \n",
    "\n",
    "    population = sorted( population, key = lambda x : x[1] )\n",
    "\n",
    "    N = len(population)\n",
    "    ranked_pop = [  ( index , population[index]  ) for index in range(population)   ]\n",
    "\n",
    "\n",
    "    # linear\n",
    "    prob_rank = [     (ranked_pop_element[0] ,  ( p_min + ((p_max - p_min )*( N -ranked_pop_element[0] )/( N -ranked_pop_element[0] ) ) ) )for ranked_pop_element in ranked_pop      ]           \n",
    "\n",
    "    selected_individuals = random.choices(population , weights=prob_rank[1], k=len(population))\n",
    "\n",
    "    return selected_individuals"
   ]
  },
  {
   "cell_type": "markdown",
   "metadata": {},
   "source": [
    "## MUTATION ALGORITHM"
   ]
  },
  {
   "cell_type": "markdown",
   "metadata": {},
   "source": [
    "- Swap mutation\n",
    "- Scramble Mutation\n",
    "- Insert mutation\n",
    "- Inversion Mutation\n"
   ]
  },
  {
   "cell_type": "code",
   "execution_count": 65,
   "metadata": {},
   "outputs": [
    {
     "name": "stdout",
     "output_type": "stream",
     "text": [
      "[0, 1, 2, 3, 4, 5, 0]\n",
      "[0, 2, 3, 4, 5, 1, 0]\n",
      "[0, 2, 3, 4, 5, 1, 0]\n"
     ]
    }
   ],
   "source": [
    "def swap_mutation(solution):\n",
    "\n",
    "    start_point= solution[0]\n",
    "    combined_solution = solution[1:-1]\n",
    "    index1, index2 = random.sample(range(len(combined_solution)), 2)\n",
    "    combined_solution[index1], combined_solution[index2] = combined_solution[index2], combined_solution[index1]\n",
    "    combined_solution.insert(0, start_point)\n",
    "    combined_solution.append(start_point)\n",
    "\n",
    "    return combined_solution\n",
    "\n",
    "def insert_mutation(solution): \n",
    "    start_point= solution[0]\n",
    "    combined_solution = solution[1:-1]\n",
    "    index1, index2 = random.sample(range(len(combined_solution)), 2)\n",
    "    value = combined_solution.pop(index2)\n",
    "    combined_solution.insert(index1+1, value)\n",
    "    combined_solution.insert(0, start_point)\n",
    "    combined_solution.append(start_point)\n",
    "    print(combined_solution)\n",
    "\n",
    "    return combined_solution\n",
    "\n",
    "\n"
   ]
  },
  {
   "cell_type": "markdown",
   "metadata": {},
   "source": [
    "## COMBINATION "
   ]
  },
  {
   "cell_type": "code",
   "execution_count": 141,
   "metadata": {},
   "outputs": [],
   "source": [
    "#Inver Over\n",
    "\n",
    "def inver_over_crossover(parent1, parent2):\n",
    "    start_point_1= parent1[0]\n",
    "    combined_solution_1 = parent1[:-1]\n",
    "    print(parent1)\n",
    "    print(parent2)\n",
    "    print(combined_solution_1)\n",
    "    start_point_2= parent2[0]\n",
    "    combined_solution_2 = parent2[:-1]\n",
    "    print(combined_solution_2 , \" prendere da qui\")\n",
    "\n",
    "    index1_1= random.sample(range(len(combined_solution_1)-1) , k=1).pop()\n",
    "    value_1_1 = combined_solution_1[index1_1]         # we get consecutive values\n",
    "    value_1_2 = combined_solution_1[index1_1+1]       #### from one vector i get 2 values\n",
    "\n",
    "    print(index1_1 ,\"element \", value_1_1 ,value_1_2)\n",
    "\n",
    "    value_2_1 = None\n",
    "    value_2_2 = None\n",
    "    index2_1 = None\n",
    "    index2_2 = None\n",
    "    for el in range(len(combined_solution_2)):\n",
    "        if((combined_solution_2[el]==value_1_1 or combined_solution_2[el]==value_1_2 ) and ( value_2_1==None and value_2_2==None )):           \n",
    "            value_2_1 = combined_solution_2[el]\n",
    "            index2_1 = el\n",
    "            print(\" index \" , index2_1 ,\" VALUE \" ,value_2_1 )\n",
    "        elif((combined_solution_2[el]==value_1_1 or combined_solution_2[el]==value_1_2 ) and ( value_2_1!=None and value_2_2==None )):           \n",
    "            value_2_2 = combined_solution_2[el]  \n",
    "            index2_2 = el\n",
    "            print(\" index \" , index2_2 , \" VALUE \" ,value_2_2 )\n",
    "    pieces_Gene = combined_solution_2[index2_1+1: index2_2]\n",
    "\n",
    "\n",
    "    composition = [] \n",
    "\n",
    "    first = combined_solution_2[:index2_1]\n",
    "\n",
    "    if(len(first)!=0 or first==None):\n",
    "        composition.extend(first)\n",
    "    composition.append(value_2_1)\n",
    "    composition.append(value_2_2)\n",
    "\n",
    "    print(composition)\n",
    "    print(\"peices gene value \" , pieces_Gene , type(pieces_Gene))\n",
    "    if(len(pieces_Gene)!=0 ):\n",
    "        pieces_Gene=pieces_Gene[::-1]\n",
    "        composition.extend(pieces_Gene)\n",
    "    print(composition)\n",
    "\n",
    "    ####!!!!!! extract better this and ok \n",
    "    if index2_2 == len(combined_solution_2) - 1:\n",
    "        last = []  # Return an empty list if the index corresponds to the last element\n",
    "    else:\n",
    "        last = combined_solution_2[index2_2 + 1:]  # Extract values from the last element to the specified\n",
    "    composition.extend(last)\n",
    "    print(composition)\n",
    "    ##delete the last element after the combination add the start element at the end\n",
    "    return \"array\""
   ]
  },
  {
   "cell_type": "code",
   "execution_count": 209,
   "metadata": {},
   "outputs": [
    {
     "name": "stdout",
     "output_type": "stream",
     "text": [
      "[4, 7, 1, 3, 9, 6, 2, 8, 0, 5, 4]\n",
      "[2, 8, 5, 1, 9, 0, 6, 3, 7, 4, 2]\n",
      "[4, 7, 1, 3, 9, 6, 2, 8, 0, 5]\n",
      "[2, 8, 5, 1, 9, 0, 6, 3, 7, 4]  prendere da qui\n",
      "1 element  7 1\n",
      " index  3  VALUE  1\n",
      " index  8  VALUE  7\n",
      "[2, 8, 5, 1, 7]\n",
      "peices gene value  [9, 0, 6, 3] <class 'list'>\n",
      "[2, 8, 5, 1, 7, 3, 6, 0, 9]\n",
      "[2, 8, 5, 1, 7, 3, 6, 0, 9, 4]\n",
      "array\n"
     ]
    }
   ],
   "source": [
    "list1 = [4, 7, 1, 3, 9, 6, 2, 8, 0, 5, 4]\n",
    "list2 = [2, 8, 5, 1, 9, 0, 6, 3, 7, 4, 2] \n",
    "\n",
    "xo =inver_over_crossover( list1 , list2)\n",
    "print(xo)\n"
   ]
  },
  {
   "cell_type": "markdown",
   "metadata": {},
   "source": [
    "Order Crossover (OX)\n",
    "• Try to preserve the relative order\n",
    "• Partially Mapped Crossover (PMX)\n",
    "• Try to preserve the relative order\n",
    "• Cycle Crossover (CX)\n",
    "• Combines cycles of elements from the parents"
   ]
  },
  {
   "cell_type": "markdown",
   "metadata": {},
   "source": [
    "## TRAIN LOOP"
   ]
  },
  {
   "cell_type": "code",
   "execution_count": 20,
   "metadata": {},
   "outputs": [
    {
     "name": "stderr",
     "output_type": "stream",
     "text": [
      "INFO:root:result: Found a path of 46 steps, total length 4436.03km\n",
      "INFO:root:result: Found a path of 46 steps, total length 5193.69km\n",
      "INFO:root:result: Found a path of 46 steps, total length 5015.50km\n",
      "INFO:root:result: Found a path of 46 steps, total length 4737.44km\n",
      "INFO:root:result: Found a path of 46 steps, total length 4857.08km\n",
      "INFO:root:result: Found a path of 46 steps, total length 5164.96km\n",
      "INFO:root:result: Found a path of 46 steps, total length 4660.15km\n",
      "INFO:root:result: Found a path of 46 steps, total length 5254.72km\n",
      "INFO:root:result: Found a path of 46 steps, total length 5128.69km\n",
      "INFO:root:result: Found a path of 46 steps, total length 4872.88km\n",
      "INFO:root:result: Found a path of 46 steps, total length 4760.19km\n",
      "INFO:root:result: Found a path of 46 steps, total length 5122.18km\n",
      "INFO:root:result: Found a path of 46 steps, total length 5040.86km\n",
      "INFO:root:result: Found a path of 46 steps, total length 4761.34km\n",
      "INFO:root:result: Found a path of 46 steps, total length 4898.63km\n",
      "INFO:root:result: Found a path of 46 steps, total length 4766.88km\n",
      "INFO:root:result: Found a path of 46 steps, total length 4749.58km\n",
      "INFO:root:result: Found a path of 46 steps, total length 5103.78km\n",
      "INFO:root:result: Found a path of 46 steps, total length 4734.77km\n",
      "INFO:root:result: Found a path of 46 steps, total length 4898.17km\n",
      "INFO:root:result: Found a path of 46 steps, total length 4809.87km\n",
      "INFO:root:result: Found a path of 46 steps, total length 4911.71km\n",
      "INFO:root:result: Found a path of 46 steps, total length 4740.09km\n",
      "INFO:root:result: Found a path of 46 steps, total length 4857.08km\n",
      "INFO:root:result: Found a path of 46 steps, total length 4915.04km\n",
      "INFO:root:result: Found a path of 46 steps, total length 4761.07km\n",
      "INFO:root:result: Found a path of 46 steps, total length 4928.33km\n",
      "INFO:root:result: Found a path of 46 steps, total length 4568.87km\n",
      "INFO:root:result: Found a path of 46 steps, total length 4576.20km\n",
      "INFO:root:result: Found a path of 46 steps, total length 4788.68km\n",
      "INFO:root:result: Found a path of 46 steps, total length 5046.40km\n",
      "INFO:root:result: Found a path of 46 steps, total length 5118.41km\n",
      "INFO:root:result: Found a path of 46 steps, total length 4699.06km\n",
      "INFO:root:result: Found a path of 46 steps, total length 4436.03km\n",
      "INFO:root:result: Found a path of 46 steps, total length 4795.40km\n",
      "INFO:root:result: Found a path of 46 steps, total length 4628.35km\n",
      "INFO:root:result: Found a path of 46 steps, total length 4825.29km\n",
      "INFO:root:result: Found a path of 46 steps, total length 5136.22km\n",
      "INFO:root:result: Found a path of 46 steps, total length 5163.49km\n",
      "INFO:root:result: Found a path of 46 steps, total length 4568.87km\n",
      "INFO:root:result: Found a path of 46 steps, total length 5172.80km\n",
      "INFO:root:result: Found a path of 46 steps, total length 4746.36km\n",
      "INFO:root:result: Found a path of 46 steps, total length 4662.18km\n",
      "INFO:root:result: Found a path of 46 steps, total length 4700.59km\n",
      "INFO:root:result: Found a path of 46 steps, total length 5097.20km\n",
      "INFO:root:result: Found a path of 46 steps, total length 5078.93km\n"
     ]
    },
    {
     "name": "stdout",
     "output_type": "stream",
     "text": [
      "46\n",
      "46\n"
     ]
    }
   ],
   "source": [
    "#tsp             # this is the starting point \n",
    "#print(tsp)\n",
    "\n",
    "\n",
    "# tabella soluzioni - index - object - cost\n",
    "\n",
    "### generational APPROACH we REPLACE THE PARENTS , WE LOSING THE SOLUTION\n",
    " \n",
    "population = []\n",
    "\n",
    "off_string = []\n",
    "\n",
    "\n",
    "\n",
    "print(len(DIST_MATRIX))\n",
    "\n",
    "for index in range(len(DIST_MATRIX)):\n",
    "    solution = GreedyAlgorithm(index)\n",
    "    population.append(solution)\n",
    "\n",
    "population = sorted(population ,  key= lambda x : x[1])\n",
    "print(len(population))"
   ]
  },
  {
   "cell_type": "markdown",
   "metadata": {},
   "source": [
    "- create solution using the greedy algorithm but using a different starting point"
   ]
  },
  {
   "cell_type": "markdown",
   "metadata": {},
   "source": [
    "## Second Greedy Algorithm -NOT YET IMPLEMENTED BY THE PROFESSOR"
   ]
  },
  {
   "cell_type": "markdown",
   "metadata": {},
   "source": [
    "NOT YET IMPLEMENTED BY THE PROFESSOR"
   ]
  },
  {
   "cell_type": "code",
   "execution_count": 20,
   "metadata": {},
   "outputs": [],
   "source": [
    "segments = [\n",
    "    ({c1, c2}, float(DIST_MATRIX[c1, c2])) for c1, c2 in combinations(range(len(CITIES)), 2)\n",
    "]\n",
    "visited = set()\n",
    "edges = set()\n",
    "\n",
    "shortest = next(_ for _ in sorted(segments, key=lambda e: e[1]))\n",
    "visited |= shortest[0]\n",
    "print(visited)\n",
    "print(shortest)\n",
    "\n",
    "edges |= {tuple(shortest[0])}\n",
    "segments = [s for s in segments if not cyclic(edges | {tuple(s[0])})]\n",
    "\n",
    "print(edges)\n",
    "print(segments)\n",
    "\n",
    "print(cyclic(edges))\n",
    "\n",
    "print(shortest)"
   ]
  },
  {
   "cell_type": "markdown",
   "metadata": {},
   "source": [
    "## ALGORITHM TO FIND SOLUTION\n"
   ]
  },
  {
   "cell_type": "markdown",
   "metadata": {},
   "source": [
    "working but worst then the greedy maybe depending from the starting\n",
    "greedy algorithm uses different starting point\n",
    "\n",
    "new algorithm modification of the greedy but withsome modification to avoid ping_pong effect\n",
    "new starting point"
   ]
  },
  {
   "cell_type": "code",
   "execution_count": null,
   "metadata": {},
   "outputs": [],
   "source": [
    "visited = np.full(len(CITIES), False)\n",
    "dist = segments.copy()\n",
    "#print(dist)\n",
    "iterator = iter(sorted(shortest[0]))\n",
    "city = next(iterator)\n",
    "#print(city)\n",
    "next_city = next(iterator)\n",
    "#print(next_city)\n",
    "visited[city] = True\n",
    "tsp = list()\n",
    "tsp.append(int(city))\n",
    "\n",
    "previous_point= shortest\n",
    "#print(\"first point \" , previous_point)\n",
    "i=0\n",
    "logging.debug(\n",
    "        f\"step: {CITIES.at[city,'name']} -> {CITIES.at[next_city,'name']} ({DIST_MATRIX[city,next_city]:.2f}km)\"\n",
    "    )\n",
    "#for i in range(4):\n",
    "while not np.all(visited):\n",
    "    #print()\n",
    "    #print(i) \n",
    "    #print(previous_point)\n",
    "\n",
    "    dist = [ distance for distance in dist if not all(previous_point[0] in distance for item in dist) ] ### remove previous point \n",
    "    \n",
    "    pick_next_city = []\n",
    "    for edge in dist:\n",
    "        tuple_set= edge[0]\n",
    "        if(next_city in tuple_set ):              ###### we save the tuple in which there are the next city x -> y\n",
    "            pick_next_city.append(edge)           ###### filtering only the points with the next city \n",
    "\n",
    "    pick_next_city=sorted(pick_next_city, key=lambda x: x[1])\n",
    "    #print(pick_next_city)\n",
    "    if(len(pick_next_city)==0):\n",
    "        visited[next_city] = True\n",
    "        tsp.append(int(next_city))\n",
    "        #print(visited)\n",
    "        break\n",
    "    \n",
    "    boolean_flag=False\n",
    "    for element in pick_next_city:\n",
    "        #print()\n",
    "        tupla = element[0]\n",
    "        distance= element[1]    \n",
    "        #print(\"element printed \" , element)\n",
    "        filtered_values = {value for value in tupla if value != next_city}.pop()  ### we are extracting the value from the set that are not included\n",
    "                                                                                  ###    (y , z) we extract z \n",
    "        extract = [ distance for distance in dist if all( {filtered_values, city} in distance for item in dist  )  ].pop() # distance STARTING POINT - NEW POINT WITHOUT MIDDLE\n",
    "                                                                                                                            ### we save the tuple (x, z)\n",
    "        #print(filtered_values , \"   \" , city)\n",
    "        #print(\"extracted mean (x, z)\" , extract)\n",
    "        #print(\"comparison between \" , previous_point, extract)\n",
    "\n",
    "        if(extract[1]>previous_point[1]):             #### comparison of distance of  ( x, z ) > (x , y )\n",
    "            boolean_flag=True\n",
    "            dist = [ distance for distance in dist if city not in distance[0]   ]      #clean the distance- we are removing all starting point\n",
    "\n",
    "            #print(\"the length of dist is \",len(dist))\n",
    "            previous_point= element\n",
    "            #print(previous_point)\n",
    "            #print(\"the new point is \" ,previous_point)\n",
    "            city= next_city\n",
    "            #print(\"the city is \", city)\n",
    "\n",
    "            next_city =  filtered_values\n",
    "            #print(\"the next is\",next_city)\n",
    "            break\n",
    "        if(boolean_flag==False):\n",
    "            print(\"ERROR LOOP IN\")\n",
    "            #print(city , next_city)\n",
    "    #i+=1\n",
    "    visited[next_city] = True\n",
    "    tsp.append(int(city))\n",
    "    logging.debug(\n",
    "        f\"step: {CITIES.at[city,'name']} -> {CITIES.at[next_city,'name']} ({DIST_MATRIX[city,next_city]:.2f}km)\"\n",
    "    )\n",
    "\n",
    "logging.debug(\n",
    "    f\"step: {CITIES.at[tsp[-1],'name']} -> {CITIES.at[tsp[0],'name']} ({DIST_MATRIX[tsp[-1],tsp[0]]:.2f}km)\" #### this is the last step to close the cycle\n",
    "    )\n",
    "tsp.append(tsp[0])\n",
    "\n",
    "\n",
    "logging.info(f\"result: Found a path of {len(tsp)-1} steps, total length {tsp_cost(tsp):.2f}km\")"
   ]
  },
  {
   "cell_type": "markdown",
   "metadata": {},
   "source": [
    "continue the exercise using the mutation and cross_over"
   ]
  },
  {
   "cell_type": "code",
   "execution_count": null,
   "metadata": {},
   "outputs": [],
   "source": []
  },
  {
   "cell_type": "markdown",
   "metadata": {},
   "source": [
    "## ALGORITHM with WORST SOLUTION"
   ]
  },
  {
   "cell_type": "markdown",
   "metadata": {},
   "source": [
    "From the solution - apply a Local Search "
   ]
  },
  {
   "cell_type": "code",
   "execution_count": null,
   "metadata": {},
   "outputs": [],
   "source": [
    "visited = np.full(len(CITIES), False)\n",
    "G = nx.Graph()\n",
    "dist = segments.copy()\n",
    "city = next(iter(sorted(shortest[0])))\n",
    "visited[city] = True\n",
    "\n",
    "tsp = list()\n",
    "tsp.append(int(city))\n",
    "\n",
    "\n",
    "while not np.all(visited):\n",
    "#for i in range(1):\n",
    "    ### here we decide how to pick the next \n",
    "    picking_next = [  tup  for tup in dist if city in tup[0]  ]\n",
    "    #print( picking_next )\n",
    "    ### computing some statistical measure\n",
    "    distances = [tup[1]  for tup in dist  ]\n",
    "    mean = np.mean(distances)\n",
    "    variance = np.var(distances, ddof=0) \n",
    "\n",
    "    rank_obj = []\n",
    "    for index_value in  picking_next:\n",
    "        tuple_index = index_value[0]\n",
    "        distance= index_value[1]\n",
    "        if( distance > mean):\n",
    "            rank_obj.append(index_value)\n",
    "    \n",
    "    if(len(rank_obj)!=0):\n",
    "        rank_obj=sorted(rank_obj, key=lambda x: x[1])\n",
    "        next_city = rank_obj[0]\n",
    "    else:\n",
    "        if(len(picking_next)!=1):\n",
    "            for index_value in  picking_next:\n",
    "                tuple_index = index_value[0]\n",
    "                distance= index_value[1]\n",
    "                print(distance , mean)\n",
    "                if( distance < mean):\n",
    "                    rank_obj.append(index_value)\n",
    "            rank_obj = sorted(rank_obj, key=lambda x: x[1])\n",
    "            if(len(rank_obj)!=1):\n",
    "                next_city = rank_obj[0]\n",
    "        else:\n",
    "            next_city = picking_next[0]\n",
    "\n",
    "    for indexis in next_city[0]:\n",
    "        if(indexis!=city):\n",
    "            feet= indexis\n",
    "    dist = [  tup  for tup in dist if city not in tup[0]       ] \n",
    "    #closest = np.argmin(dist[city])    #### here we are finding the closest city \n",
    "\n",
    "\n",
    "    G.add_nodes_from([city, feet])\n",
    "    G.add_edge(city, feet, weight=round(next_city[1], 2) )\n",
    "\n",
    "\n",
    "\n",
    "    logging.debug(\n",
    "        f\"step: {CITIES.at[city,'name']} -> {CITIES.at[feet,'name']} ({DIST_MATRIX[city,feet]:.2f}km)\"\n",
    "    )\n",
    "    visited[feet] = True\n",
    "    city = feet\n",
    "    tsp.append(int(city))\n",
    "\n",
    "\n",
    "logging.debug(\n",
    "    f\"step: {CITIES.at[tsp[-1],'name']} -> {CITIES.at[tsp[0],'name']} ({DIST_MATRIX[tsp[-1],tsp[0]]:.2f}km)\" #### this is the last step to close the cycle\n",
    ")\n",
    "tsp.append(tsp[0])\n",
    "\n",
    "\n",
    "logging.info(f\"result: Found a path of {len(tsp)-1} steps, total length {tsp_cost(tsp):.2f}km\")    # assertion error"
   ]
  },
  {
   "cell_type": "markdown",
   "metadata": {},
   "source": [
    "continue the algorithm using the algorithm"
   ]
  },
  {
   "cell_type": "markdown",
   "metadata": {},
   "source": [
    "## General Graph - Representation"
   ]
  },
  {
   "cell_type": "code",
   "execution_count": 67,
   "metadata": {},
   "outputs": [
    {
     "ename": "NameError",
     "evalue": "name 'segments' is not defined",
     "output_type": "error",
     "traceback": [
      "\u001b[1;31m---------------------------------------------------------------------------\u001b[0m",
      "\u001b[1;31mNameError\u001b[0m                                 Traceback (most recent call last)",
      "Cell \u001b[1;32mIn[67], line 4\u001b[0m\n\u001b[0;32m      1\u001b[0m \u001b[38;5;66;03m# Create an undirected graph\u001b[39;00m\n\u001b[0;32m      2\u001b[0m G \u001b[38;5;241m=\u001b[39m nx\u001b[38;5;241m.\u001b[39mGraph()\n\u001b[1;32m----> 4\u001b[0m \u001b[38;5;28;01mfor\u001b[39;00m element \u001b[38;5;129;01min\u001b[39;00m \u001b[43msegments\u001b[49m:\n\u001b[0;32m      5\u001b[0m     \u001b[38;5;28mprint\u001b[39m()\n\u001b[0;32m      6\u001b[0m     \u001b[38;5;28mprint\u001b[39m(element)\n",
      "\u001b[1;31mNameError\u001b[0m: name 'segments' is not defined"
     ]
    }
   ],
   "source": [
    "# Create an undirected graph\n",
    "G = nx.Graph()\n",
    "\n",
    "for element in segments:\n",
    "    print()\n",
    "    print(element)\n",
    "    # Add nodes\n",
    "    iterator = iter(element[0])\n",
    "    A=next(iterator)\n",
    "    B=next(iterator)    \n",
    "    G.add_nodes_from([A, B])\n",
    "    # Add an undirected edge with a weight\n",
    "\n",
    "    G.add_edge(A, B, weight=round(element[1], 2) )\n",
    "\n",
    "# Check the edge with weight\n",
    "#print(\"Edges with weights:\", G.edges(data=True))\n",
    "# Define the position of nodes for a simple layout\n",
    "pos = nx.spring_layout(G)\n",
    "\n",
    "\n",
    "# Increase figure size\n",
    "plt.figure(figsize=(50, 60))  # Width=10, Height=6\n",
    "# Draw the nodes and edges\n",
    "nx.draw(G, pos, with_labels=True, node_color=\"lightblue\", node_size=500, font_size=15)\n",
    "\n",
    "# Draw edge labels (weights)\n",
    "edge_labels = nx.get_edge_attributes(G, 'weight')\n",
    "nx.draw_networkx_edge_labels(G, pos, edge_labels=edge_labels)\n",
    "\n",
    "# Display the graph\n",
    "plt.show()"
   ]
  }
 ],
 "metadata": {
  "kernelspec": {
   "display_name": ".venv",
   "language": "python",
   "name": "python3"
  },
  "language_info": {
   "codemirror_mode": {
    "name": "ipython",
    "version": 3
   },
   "file_extension": ".py",
   "mimetype": "text/x-python",
   "name": "python",
   "nbconvert_exporter": "python",
   "pygments_lexer": "ipython3",
   "version": "3.10.11"
  }
 },
 "nbformat": 4,
 "nbformat_minor": 2
}
